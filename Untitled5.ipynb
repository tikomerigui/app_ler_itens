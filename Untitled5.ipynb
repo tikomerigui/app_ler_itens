{
  "nbformat": 4,
  "nbformat_minor": 0,
  "metadata": {
    "colab": {
      "private_outputs": true,
      "provenance": [],
      "authorship_tag": "ABX9TyNePXqJzPJGK/5C+EEx8zj8",
      "include_colab_link": true
    },
    "kernelspec": {
      "name": "python3",
      "display_name": "Python 3"
    },
    "language_info": {
      "name": "python"
    }
  },
  "cells": [
    {
      "cell_type": "markdown",
      "metadata": {
        "id": "view-in-github",
        "colab_type": "text"
      },
      "source": [
        "<a href=\"https://colab.research.google.com/github/tikomerigui/app_ler_itens/blob/main/Untitled5.ipynb\" target=\"_parent\"><img src=\"https://colab.research.google.com/assets/colab-badge.svg\" alt=\"Open In Colab\"/></a>"
      ]
    },
    {
      "cell_type": "code",
      "execution_count": null,
      "metadata": {
        "id": "CVXjD-dlgvaM"
      },
      "outputs": [],
      "source": [
        "import kivy\n",
        "from kivy.app import App\n",
        "from kivy.uix.boxlayout import BoxLayout\n",
        "from kivy.uix.label import Label\n",
        "from kivy.uix.button import Button\n",
        "\n",
        "class ContadorApp(App):\n",
        "\n",
        "    def build(self):\n",
        "        layout = BoxLayout()\n",
        "\n",
        "        # Label para exibir a contagem atual\n",
        "        self.contador_label = Label(text=\"0\")\n",
        "        layout.add_widget(self.contador_label)\n",
        "\n",
        "        # Botão para ler um item\n",
        "        self.ler_item_button = Button(text=\"Ler Item\")\n",
        "        self.ler_item_button.bind(on_press=self.ler_item)\n",
        "        layout.add_widget(self.ler_item_button)\n",
        "\n",
        "        return layout\n",
        "\n",
        "    def ler_item(self, instance):\n",
        "        # Implementar a lógica para ler um item (código de barras, QR Code, etc.)\n",
        "        # Atualizar a contagem e o label contador_label\n",
        "\n",
        "if __name__ == \"__main__\":\n",
        "    ContadorApp().run()"
      ]
    }
  ]
}